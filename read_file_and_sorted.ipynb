{
 "cells": [
  {
   "cell_type": "code",
   "execution_count": null,
   "metadata": {},
   "outputs": [],
   "source": [
    "\n",
    "file_path = 'the_file_to_read.txt'\n",
    "word_list = []\n",
    "\n",
    "with open(file_path, 'r') as file:\n",
    "    text = file.read()\n",
    "    words = text.split()\n",
    "    word_list.extend(words)\n",
    "\n",
    "dictionary = {}\n",
    "for word in word_list:\n",
    "    if word in dictionary:\n",
    "        dictionary[word] += 1\n",
    "    else:\n",
    "        dictionary[word] = 1\n",
    "sorted_dict =dict(sorted(dictionary.items(), key=lambda item: item[1],reverse=True))\n",
    "n = input(\"enter a number: \")\n",
    "for i in range(0,n):\n",
    "    print(sorted_dict[i])"
   ]
  },
  {
   "cell_type": "code",
   "execution_count": 3,
   "metadata": {},
   "outputs": [
    {
     "name": "stdout",
     "output_type": "stream",
     "text": [
      "[42, 5, 4, 3]  1  1\n"
     ]
    }
   ],
   "source": [
    "def mes(input_list):\n",
    "    mod=input_list.copy()\n",
    "    mod.append(42)\n",
    "    if 2 in mod:\n",
    "        mod.remove(2)\n",
    "    count_of_3=mod.count(3)\n",
    "    mod.reverse()\n",
    "    pop_e=mod.pop()\n",
    "    return mod,count_of_3,pop_e\n",
    "my_list = [1,2,3,4,5]\n",
    "result, count, pope=mes(my_list)\n",
    "print(result,\"\",count,\"\",pope)"
   ]
  },
  {
   "cell_type": "code",
   "execution_count": 6,
   "metadata": {},
   "outputs": [
    {
     "name": "stdout",
     "output_type": "stream",
     "text": [
      "['BANAN', 'APPLE']\n"
     ]
    }
   ],
   "source": [
    "\n"
   ]
  }
 ],
 "metadata": {
  "kernelspec": {
   "display_name": "Python 3",
   "language": "python",
   "name": "python3"
  },
  "language_info": {
   "codemirror_mode": {
    "name": "ipython",
    "version": 3
   },
   "file_extension": ".py",
   "mimetype": "text/x-python",
   "name": "python",
   "nbconvert_exporter": "python",
   "pygments_lexer": "ipython3",
   "version": "3.11.4"
  }
 },
 "nbformat": 4,
 "nbformat_minor": 2
}
