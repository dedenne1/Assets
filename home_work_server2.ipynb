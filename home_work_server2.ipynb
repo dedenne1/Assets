{
 "cells": [
  {
   "cell_type": "code",
   "execution_count": null,
   "metadata": {},
   "outputs": [],
   "source": [
    "from socket import *\n",
    "from random import *\n",
    "from datetime import *\n",
    "port = 12345\n",
    "\n",
    "class my_server:\n",
    "    def __init__(self,port):\n",
    "        self.server_socket = socket()\n",
    "        self.server_socket.bind(('',port))\n",
    "\n",
    "    def listen(self):\n",
    "        self.server_socket.listen()\n",
    "        count =1\n",
    "        message =''\n",
    "        while message != 'exit':\n",
    "            client_socket,addr = self.server_socket.accept()\n",
    "            message = client_socket.recv(1024).decode()\n",
    "            if message == \"time\" :\n",
    "                current_time = datetime.datetime.now()\n",
    "                formatted_time = current_time.strftime(\"%Y-%m-%d %H:%M:%S\")\n",
    "                print(\"Current time is:\", formatted_time)\n",
    "            elif message == \"whour\":\n",
    "                print(\"my name is shon first server\")\n",
    "            elif message == \"rand\":\n",
    "                random_number = random.randint(1, 10)\n",
    "                print(random_number)\n",
    "            else:\n",
    "                print(\"i assume you write exit and if you dont call the server again becuse the server didnt get your respond \")\n",
    "                message = 'exit'\n",
    "\n",
    "            client_socket.send(f\"server respond number {count} is echo..... {message}\".encode())\n",
    "            client_socket.close()\n",
    "            count+=1\n",
    "        self.server_socket.close()\n"
   ]
  }
 ],
 "metadata": {
  "kernelspec": {
   "display_name": "Python 3",
   "language": "python",
   "name": "python3"
  },
  "language_info": {
   "name": "python",
   "version": "3.11.4"
  }
 },
 "nbformat": 4,
 "nbformat_minor": 2
}
