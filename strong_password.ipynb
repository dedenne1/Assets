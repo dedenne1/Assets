{
 "cells": [
  {
   "cell_type": "code",
   "execution_count": null,
   "metadata": {},
   "outputs": [],
   "source": [
    "def is_strong_password(password):\n",
    "    if len(password) < 8:\n",
    "        return False\n",
    "    \n",
    "    if not any(char.isupper() for char in password) or not any(char.islower() for char in password):\n",
    "        return False\n",
    "\n",
    "    if not any(char.isdigit() for char in password):\n",
    "        return False\n",
    "\n",
    "    special_characters = \"!@#$%^&*()_+{}[]:;<>,.?~\\\\\"\n",
    "    if not any(char in special_characters for char in password):\n",
    "        return False\n",
    "\n",
    "    common_words = [\n",
    "    'password', '123456', 'qwerty', 'welcome', 'admin', 'letmein',\n",
    "    'football', 'monkey', '12345', 'abc123', 'iloveyou', '123456789',\n",
    "    'password1', 'sunshine', 'superman', 'dragon', 'princess', '1234',\n",
    "    'rockyou', 'password123', '12345678', '1qaz2wsx', 'asdfghjkl',\n",
    "    'mustang', '123321', '000000', 'qazwsx', 'shadow', 'master',\n",
    "    'batman', 'trustno1', 'password1234', 'welcome123', 'admin123',\n",
    "    'qwertyuiop', 'letmein123', '123123', 'qwerty1234', 'test123',\n",
    "    'love123', 'starwars', '1234567', '1234567890', '1234567891',\n",
    "    'welcome1', 'abc1234', 'password12', 'hello123', 'letmein1',\n",
    "    'password12345', 'qwerty12345', '1q2w3e4r', '1qaz2wsx3edc',\n",
    "    '123456789a', 'sunshine1', 'password!',\n",
    "    ]\n",
    "    for common_word in common_words:\n",
    "        if common_word in password.lower():\n",
    "            return False\n",
    "\n",
    "    return True"
   ]
  }
 ],
 "metadata": {
  "language_info": {
   "name": "python"
  }
 },
 "nbformat": 4,
 "nbformat_minor": 2
}
