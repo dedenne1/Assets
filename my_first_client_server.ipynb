{
 "cells": [
  {
   "cell_type": "code",
   "execution_count": null,
   "metadata": {},
   "outputs": [],
   "source": [
    "from socket import *\n",
    "\n",
    "class client_server:\n",
    "    def __init__(self, ip, port):\n",
    "        self.ip = ip\n",
    "        self.port = port\n",
    "        self.client_socket = socket()\n",
    "\n",
    "    def connect(self):\n",
    "        self.client_socket.connect((self.ip, self.port))\n",
    "\n",
    "    def send_message(self, message):\n",
    "        self.client_socket.send(message.encode())\n",
    "\n",
    "    def receive_response(self,message):\n",
    "        return self.client_socket.recv().decode()\n",
    "\n",
    "    def close_connection(self):\n",
    "        self.client_socket.close()"
   ]
  },
  {
   "cell_type": "code",
   "execution_count": null,
   "metadata": {},
   "outputs": [],
   "source": [
    "ip = '127.0.0.1'\n",
    "port =12345\n",
    "client_socket = socket()\n",
    "client_socket.connect((ip,port))\n",
    "\n",
    "msg = \"rand\"\n",
    "\n",
    "client_socket.send(msg.encode())\n",
    "\n",
    "answer = client_socket.recv(1024).decode()\n",
    "\n",
    "client_socket.close()"
   ]
  }
 ],
 "metadata": {
  "language_info": {
   "name": "python"
  }
 },
 "nbformat": 4,
 "nbformat_minor": 2
}
