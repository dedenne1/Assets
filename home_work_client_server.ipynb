{
 "cells": [
  {
   "cell_type": "code",
   "execution_count": null,
   "metadata": {},
   "outputs": [],
   "source": [
    "from socket import *\n",
    "\n",
    "class client_server:\n",
    "    def __init__(self, ip, port):\n",
    "        self.ip = ip\n",
    "        self.port = port\n",
    "        self.client_socket = socket()\n",
    "\n",
    "    def connect(self):\n",
    "        self.client_socket.connect((self.ip, self.port))\n",
    "\n",
    "    def send_message(self, message):\n",
    "        self.client_socket.send(message.encode())\n",
    "\n",
    "    def receive_response(self):\n",
    "        return self.client_socket.recv(1024).decode()\n",
    "\n",
    "    def close_connection(self):\n",
    "        self.client_socket.close()"
   ]
  }
 ],
 "metadata": {
  "kernelspec": {
   "display_name": "Python 3",
   "language": "python",
   "name": "python3"
  },
  "language_info": {
   "name": "python",
   "version": "3.11.4"
  }
 },
 "nbformat": 4,
 "nbformat_minor": 2
}
