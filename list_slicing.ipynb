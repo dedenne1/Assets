{
 "cells": [
  {
   "cell_type": "code",
   "execution_count": 9,
   "metadata": {},
   "outputs": [
    {
     "name": "stdout",
     "output_type": "stream",
     "text": [
      "this\n",
      "False\n",
      "[30]\n",
      "30\n",
      "True\n",
      "[30]\n",
      "[30]\n"
     ]
    }
   ],
   "source": [
    "def printl():\n",
    "    my_list=[10,20,30,40,50]\n",
    "    if(my_list[-2:]==my_list[3:]):\n",
    "        print(\"this\")\n",
    "    if(my_list[-1] == my_list[1]):\n",
    "        print(\"is\")\n",
    "        \n",
    "    print(my_list[2:3]==my_list[2])\n",
    "\n",
    "    print(my_list[2:3])\n",
    "    print(my_list[2])\n",
    "\n",
    "    print(my_list[-3:-2]== [my_list[2]])\n",
    "\n",
    "    print(my_list[-3:-2])\n",
    "    print([my_list[2]])\n",
    "\n",
    "    if(my_list[1:-1] == my_list[1::-1]):\n",
    "        print(\"good\")\n",
    "    if(my_list[::1]== my_list[::-1] or my_list[::1] == my_list[::2]):\n",
    "        print(\"bye\")\n",
    "\n",
    "printl()\n"
   ]
  }
 ],
 "metadata": {
  "kernelspec": {
   "display_name": "Python 3",
   "language": "python",
   "name": "python3"
  },
  "language_info": {
   "codemirror_mode": {
    "name": "ipython",
    "version": 3
   },
   "file_extension": ".py",
   "mimetype": "text/x-python",
   "name": "python",
   "nbconvert_exporter": "python",
   "pygments_lexer": "ipython3",
   "version": "3.11.4"
  }
 },
 "nbformat": 4,
 "nbformat_minor": 2
}
